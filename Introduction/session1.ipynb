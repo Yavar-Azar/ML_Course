{
  "nbformat": 4,
  "nbformat_minor": 0,
  "metadata": {
    "colab": {
      "provenance": [],
      "authorship_tag": "ABX9TyMFMT/MH08MWnCB4EnQMEo0",
      "include_colab_link": true
    },
    "kernelspec": {
      "name": "python3",
      "display_name": "Python 3"
    },
    "language_info": {
      "name": "python"
    }
  },
  "cells": [
    {
      "cell_type": "markdown",
      "metadata": {
        "id": "view-in-github",
        "colab_type": "text"
      },
      "source": [
        "<a href=\"https://colab.research.google.com/github/Yavar-Azar/ML_Course/blob/master/Introduction/session1.ipynb\" target=\"_parent\"><img src=\"https://colab.research.google.com/assets/colab-badge.svg\" alt=\"Open In Colab\"/></a>"
      ]
    },
    {
      "cell_type": "markdown",
      "source": [
        "\n",
        "\n",
        "# Introduction\n",
        "\n",
        "We are going to introduce basic libraries in the python\n",
        "including  numpy, matplotlib, scikit-learn  and  tensorflow\n",
        "\n"
      ],
      "metadata": {
        "id": "XLIEV0mOacq6"
      }
    },
    {
      "cell_type": "code",
      "source": [
        "import numpy as np\n",
        "import matplotlib.pyplot as plt"
      ],
      "metadata": {
        "id": "iUhjIInUauTf"
      },
      "execution_count": null,
      "outputs": []
    },
    {
      "cell_type": "code",
      "source": [
        "x = np.linspace(-10,10,100)\n",
        "y = x**2\n",
        "\n",
        "plt.plot(x,y)"
      ],
      "metadata": {
        "colab": {
          "base_uri": "https://localhost:8080/",
          "height": 447
        },
        "id": "oqEK4uV9a2La",
        "outputId": "516217a5-c396-4474-ea6c-aefd58cfa356"
      },
      "execution_count": null,
      "outputs": [
        {
          "output_type": "execute_result",
          "data": {
            "text/plain": [
              "[<matplotlib.lines.Line2D at 0x7b79dddcb1c0>]"
            ]
          },
          "metadata": {},
          "execution_count": 3
        },
        {
          "output_type": "display_data",
          "data": {
            "text/plain": [
              "<Figure size 640x480 with 1 Axes>"
            ],
            "image/png": "[encoded data removed]"
          },
          "metadata": {}
        }
      ]
    },
    {
      "cell_type": "code",
      "source": [
        "x_new = np.reshape(x,(100,1))"
      ],
      "metadata": {
        "id": "aXFF3sKFdDba"
      },
      "execution_count": null,
      "outputs": []
    },
    {
      "cell_type": "code",
      "source": [
        " # how to check the shape of x_new\n",
        " # np.shape(x_new)\n",
        "\n",
        "\n",
        "mult = x_new*x_new"
      ],
      "metadata": {
        "id": "MBGD6lBTdOhc"
      },
      "execution_count": null,
      "outputs": []
    },
    {
      "cell_type": "code",
      "source": [
        "np.shape(mult)"
      ],
      "metadata": {
        "colab": {
          "base_uri": "https://localhost:8080/"
        },
        "id": "3R-neKHSd3Kc",
        "outputId": "6b5d63dc-b02f-457e-a436-facd07b02967"
      },
      "execution_count": null,
      "outputs": [
        {
          "output_type": "execute_result",
          "data": {
            "text/plain": [
              "(100, 1)"
            ]
          },
          "metadata": {},
          "execution_count": 15
        }
      ]
    },
    {
      "cell_type": "code",
      "source": [
        "inner = np.dot(x_new.T, x_new)"
      ],
      "metadata": {
        "id": "re5elzgNey0o"
      },
      "execution_count": null,
      "outputs": []
    },
    {
      "cell_type": "code",
      "source": [
        "np.shape(inner)"
      ],
      "metadata": {
        "colab": {
          "base_uri": "https://localhost:8080/"
        },
        "id": "EURprLxVe-4U",
        "outputId": "c3b0e0e1-3d26-4e98-da29-dbef90207506"
      },
      "execution_count": null,
      "outputs": [
        {
          "output_type": "execute_result",
          "data": {
            "text/plain": [
              "(1, 1)"
            ]
          },
          "metadata": {},
          "execution_count": 19
        }
      ]
    },
    {
      "cell_type": "code",
      "source": [
        "rand =np.random.rand(4,6)"
      ],
      "metadata": {
        "id": "p7124yATfW_M"
      },
      "execution_count": null,
      "outputs": []
    },
    {
      "cell_type": "code",
      "source": [
        "rand[:,1]"
      ],
      "metadata": {
        "colab": {
          "base_uri": "https://localhost:8080/"
        },
        "id": "TJiTmxo9fmX4",
        "outputId": "291cebd2-d5fe-4307-b6a0-5dc6c10f2820"
      },
      "execution_count": null,
      "outputs": [
        {
          "output_type": "execute_result",
          "data": {
            "text/plain": [
              "array([0.07117324, 0.70848461, 0.32932133, 0.01627818])"
            ]
          },
          "metadata": {},
          "execution_count": 26
        }
      ]
    },
    {
      "cell_type": "code",
      "source": [
        "eye = np.eye(6,6)"
      ],
      "metadata": {
        "id": "fvbI35Y5gD8K"
      },
      "execution_count": null,
      "outputs": []
    },
    {
      "cell_type": "code",
      "source": [
        "eye"
      ],
      "metadata": {
        "colab": {
          "base_uri": "https://localhost:8080/"
        },
        "id": "hq8xJLF-gYBR",
        "outputId": "6cb84fe4-50f3-40d2-a2f7-6cb981917a0c"
      },
      "execution_count": null,
      "outputs": [
        {
          "output_type": "execute_result",
          "data": {
            "text/plain": [
              "array([[1., 0., 0., 0., 0., 0.],\n",
              "       [0., 1., 0., 0., 0., 0.],\n",
              "       [0., 0., 1., 0., 0., 0.],\n",
              "       [0., 0., 0., 1., 0., 0.],\n",
              "       [0., 0., 0., 0., 1., 0.],\n",
              "       [0., 0., 0., 0., 0., 1.]])"
            ]
          },
          "metadata": {},
          "execution_count": 34
        }
      ]
    },
    {
      "cell_type": "code",
      "source": [
        "a =5/3"
      ],
      "metadata": {
        "id": "sWAACtqfgdCn"
      },
      "execution_count": null,
      "outputs": []
    },
    {
      "cell_type": "code",
      "source": [
        "type(a)\n",
        "print(a)"
      ],
      "metadata": {
        "colab": {
          "base_uri": "https://localhost:8080/"
        },
        "id": "-I18z8J8gz21",
        "outputId": "80d42d3d-3ab3-47f7-f446-8b2232a06376"
      },
      "execution_count": null,
      "outputs": [
        {
          "output_type": "stream",
          "name": "stdout",
          "text": [
            "1.6666666666666667\n"
          ]
        }
      ]
    },
    {
      "cell_type": "code",
      "source": [
        "print(f'this is my value {a:8.4f}  and {a:12.8f}')"
      ],
      "metadata": {
        "colab": {
          "base_uri": "https://localhost:8080/"
        },
        "id": "8ebd2RX5hY-E",
        "outputId": "c077c578-ec10-449c-d094-06ca70f3d263"
      },
      "execution_count": null,
      "outputs": [
        {
          "output_type": "stream",
          "name": "stdout",
          "text": [
            "this is my value   1.6667  and   1.66666667\n"
          ]
        }
      ]
    },
    {
      "cell_type": "code",
      "source": [
        "two_d = np.random.rand(8,8)\n",
        "\n",
        "plt.imshow(two_d, cmap='binary'), plt.colorbar()"
      ],
      "metadata": {
        "colab": {
          "base_uri": "https://localhost:8080/",
          "height": 465
        },
        "id": "d7DrJ4xQh9Ny",
        "outputId": "9a32e46f-5862-4811-c6ee-c6cf446efcd5"
      },
      "execution_count": null,
      "outputs": [
        {
          "output_type": "execute_result",
          "data": {
            "text/plain": [
              "(<matplotlib.image.AxesImage at 0x7b79a3fb5420>,\n",
              " <matplotlib.colorbar.Colorbar at 0x7b79a3f9e320>)"
            ]
          },
          "metadata": {},
          "execution_count": 59
        },
        {
          "output_type": "display_data",
          "data": {
            "text/plain": [
              "<Figure size 640x480 with 2 Axes>"
            ],
            "image/png": "[encoded data removed]"
          },
          "metadata": {}
        }
      ]
    },
    {
      "cell_type": "code",
      "source": [
        "import pandas as pd\n",
        "import numpy as np\n",
        "import matplotlib.pyplot as plt\n",
        "\n",
        "# Load dataset\n",
        "url = 'https://raw.githubusercontent.com/jbrownlee/Datasets/master/airline-passengers.csv'\n",
        "data = pd.read_csv(url)\n",
        "\n",
        "# Check the first few rows\n",
        "print(data)"
      ],
      "metadata": {
        "id": "Q4_9sS05ivfA",
        "outputId": "2f94decd-83a5-48de-8c08-156cfc1ea791",
        "colab": {
          "base_uri": "https://localhost:8080/"
        }
      },
      "execution_count": 60,
      "outputs": [
        {
          "output_type": "stream",
          "name": "stdout",
          "text": [
            "       Month  Passengers\n",
            "0    1949-01         112\n",
            "1    1949-02         118\n",
            "2    1949-03         132\n",
            "3    1949-04         129\n",
            "4    1949-05         121\n",
            "..       ...         ...\n",
            "139  1960-08         606\n",
            "140  1960-09         508\n",
            "141  1960-10         461\n",
            "142  1960-11         390\n",
            "143  1960-12         432\n",
            "\n",
            "[144 rows x 2 columns]\n"
          ]
        }
      ]
    },
    {
      "cell_type": "code",
      "source": [
        "data.plot()"
      ],
      "metadata": {
        "id": "XPQqi4IMlbrd",
        "outputId": "ea0216ee-1c83-4000-a8bc-edba549eb60f",
        "colab": {
          "base_uri": "https://localhost:8080/",
          "height": 447
        }
      },
      "execution_count": 61,
      "outputs": [
        {
          "output_type": "execute_result",
          "data": {
            "text/plain": [
              "<Axes: >"
            ]
          },
          "metadata": {},
          "execution_count": 61
        },
        {
          "output_type": "display_data",
          "data": {
            "text/plain": [
              "<Figure size 640x480 with 1 Axes>"
            ],
            "image/png": "[encoded data removed]"
          },
          "metadata": {}
        }
      ]
    },
    {
      "cell_type": "markdown",
      "source": [
        "## 2. Preprocessing the Data\n",
        "We need to preprocess the data by normalizing it and converting it into a suitable format for the LSTM model. LSTMs require data in the shape [samples, time steps, features]."
      ],
      "metadata": {
        "id": "vzGxWV3Qm5Ad"
      }
    },
    {
      "cell_type": "code",
      "source": [
        "from sklearn.preprocessing import MinMaxScaler\n",
        "from sklearn.model_selection import train_test_split\n",
        "\n",
        "# Extract the passengers column as the feature we want to predict\n",
        "dataset = data['Passengers'].values\n"
      ],
      "metadata": {
        "id": "5fVlQ3WRmaDJ"
      },
      "execution_count": 62,
      "outputs": []
    },
    {
      "cell_type": "code",
      "source": [
        "dataset"
      ],
      "metadata": {
        "id": "Vg3SWINInoDN",
        "outputId": "bb00d3d5-d465-4f54-f097-e728c3d97c33",
        "colab": {
          "base_uri": "https://localhost:8080/"
        }
      },
      "execution_count": 63,
      "outputs": [
        {
          "output_type": "execute_result",
          "data": {
            "text/plain": [
              "array([112, 118, 132, 129, 121, 135, 148, 148, 136, 119, 104, 118, 115,\n",
              "       126, 141, 135, 125, 149, 170, 170, 158, 133, 114, 140, 145, 150,\n",
              "       178, 163, 172, 178, 199, 199, 184, 162, 146, 166, 171, 180, 193,\n",
              "       181, 183, 218, 230, 242, 209, 191, 172, 194, 196, 196, 236, 235,\n",
              "       229, 243, 264, 272, 237, 211, 180, 201, 204, 188, 235, 227, 234,\n",
              "       264, 302, 293, 259, 229, 203, 229, 242, 233, 267, 269, 270, 315,\n",
              "       364, 347, 312, 274, 237, 278, 284, 277, 317, 313, 318, 374, 413,\n",
              "       405, 355, 306, 271, 306, 315, 301, 356, 348, 355, 422, 465, 467,\n",
              "       404, 347, 305, 336, 340, 318, 362, 348, 363, 435, 491, 505, 404,\n",
              "       359, 310, 337, 360, 342, 406, 396, 420, 472, 548, 559, 463, 407,\n",
              "       362, 405, 417, 391, 419, 461, 472, 535, 622, 606, 508, 461, 390,\n",
              "       432])"
            ]
          },
          "metadata": {},
          "execution_count": 63
        }
      ]
    },
    {
      "cell_type": "code",
      "source": [
        "dataset = dataset.astype('float64')"
      ],
      "metadata": {
        "id": "ShjbCw7xnp9j"
      },
      "execution_count": 15,
      "outputs": []
    },
    {
      "cell_type": "code",
      "source": [
        "dataset"
      ],
      "metadata": {
        "id": "6wu9Ob3FnyI1",
        "outputId": "17b4ca19-a31c-4b0c-adc4-f6a712d21c87",
        "colab": {
          "base_uri": "https://localhost:8080/"
        }
      },
      "execution_count": 16,
      "outputs": [
        {
          "output_type": "execute_result",
          "data": {
            "text/plain": [
              "array([112., 118., 132., 129., 121., 135., 148., 148., 136., 119., 104.,\n",
              "       118., 115., 126., 141., 135., 125., 149., 170., 170., 158., 133.,\n",
              "       114., 140., 145., 150., 178., 163., 172., 178., 199., 199., 184.,\n",
              "       162., 146., 166., 171., 180., 193., 181., 183., 218., 230., 242.,\n",
              "       209., 191., 172., 194., 196., 196., 236., 235., 229., 243., 264.,\n",
              "       272., 237., 211., 180., 201., 204., 188., 235., 227., 234., 264.,\n",
              "       302., 293., 259., 229., 203., 229., 242., 233., 267., 269., 270.,\n",
              "       315., 364., 347., 312., 274., 237., 278., 284., 277., 317., 313.,\n",
              "       318., 374., 413., 405., 355., 306., 271., 306., 315., 301., 356.,\n",
              "       348., 355., 422., 465., 467., 404., 347., 305., 336., 340., 318.,\n",
              "       362., 348., 363., 435., 491., 505., 404., 359., 310., 337., 360.,\n",
              "       342., 406., 396., 420., 472., 548., 559., 463., 407., 362., 405.,\n",
              "       417., 391., 419., 461., 472., 535., 622., 606., 508., 461., 390.,\n",
              "       432.])"
            ]
          },
          "metadata": {},
          "execution_count": 16
        }
      ]
    },
    {
      "cell_type": "code",
      "source": [
        "scaler = MinMaxScaler(feature_range=(0, 1))\n",
        "\n",
        "dataset = scaler.fit_transform(dataset.reshape(-1, 1))"
      ],
      "metadata": {
        "id": "u7XMG1THnzom"
      },
      "execution_count": 70,
      "outputs": []
    },
    {
      "cell_type": "code",
      "source": [
        "dataset[0]"
      ],
      "metadata": {
        "id": "wSpp_50ZoMo8",
        "outputId": "92871459-d767-42a3-b1bb-02d47f6d82b1",
        "colab": {
          "base_uri": "https://localhost:8080/"
        }
      },
      "execution_count": 65,
      "outputs": [
        {
          "output_type": "execute_result",
          "data": {
            "text/plain": [
              "array([0.01544402])"
            ]
          },
          "metadata": {},
          "execution_count": 65
        }
      ]
    },
    {
      "cell_type": "code",
      "source": [
        "dataset[1:4,0]"
      ],
      "metadata": {
        "id": "ey18zbiPqz4t",
        "outputId": "92cff99d-206d-438c-eeb1-85d39d365547",
        "colab": {
          "base_uri": "https://localhost:8080/"
        }
      },
      "execution_count": 66,
      "outputs": [
        {
          "output_type": "execute_result",
          "data": {
            "text/plain": [
              "array([0.02702703, 0.05405405, 0.04826255])"
            ]
          },
          "metadata": {},
          "execution_count": 66
        }
      ]
    },
    {
      "cell_type": "code",
      "source": [
        "def create_dataset(data, look_back=1):\n",
        "    X, Y = [], []\n",
        "    for i in range(len(data) - look_back - 1):\n",
        "        X.append(data[i:(i + look_back), 0])\n",
        "        Y.append(data[i + look_back, 0])\n",
        "    return np.array(X), np.array(Y)\n",
        "\n",
        "\n",
        "# Create a dataset with a look-back of 1 (using the previous month to predict the next)\n",
        "look_back = 1\n",
        "X, Y = create_dataset(dataset, look_back)\n"
      ],
      "metadata": {
        "id": "tR88Jj8coPVd"
      },
      "execution_count": 71,
      "outputs": []
    },
    {
      "cell_type": "code",
      "source": [
        "# Reshape input to be [samples, time steps, features]\n",
        "X = np.reshape(X, (X.shape[0], X.shape[1], 1))"
      ],
      "metadata": {
        "id": "SW1RI2k3rY2q"
      },
      "execution_count": 72,
      "outputs": []
    },
    {
      "cell_type": "code",
      "source": [
        "X.shape"
      ],
      "metadata": {
        "id": "cPlrHTCHu1o2",
        "outputId": "8a6a76b3-3c78-469f-ba74-c93b9bc6453a",
        "colab": {
          "base_uri": "https://localhost:8080/"
        }
      },
      "execution_count": 73,
      "outputs": [
        {
          "output_type": "execute_result",
          "data": {
            "text/plain": [
              "(142, 1, 1)"
            ]
          },
          "metadata": {},
          "execution_count": 73
        }
      ]
    },
    {
      "cell_type": "code",
      "source": [
        "\n",
        "# Split the data into training and test sets\n",
        "X_train, X_test, Y_train, Y_test = train_test_split(X, Y, test_size=0.2, shuffle=False)"
      ],
      "metadata": {
        "id": "ocPpecL7rcGk"
      },
      "execution_count": 74,
      "outputs": []
    },
    {
      "cell_type": "markdown",
      "source": [
        "3. Building the LSTM Model\n",
        "Now, let’s create an LSTM model using TensorFlow’s Keras API. We’ll create a simple model with a single LSTM layer followed by a Dense layer.\n",
        "\n"
      ],
      "metadata": {
        "id": "l1V9LXudsYq6"
      }
    },
    {
      "cell_type": "code",
      "source": [
        "import tensorflow as tf\n",
        "from tensorflow.keras.models import Sequential\n",
        "from tensorflow.keras.layers import LSTM, Dense, Input\n",
        "\n",
        "\n",
        "import os\n",
        "os.environ[\"CUDA_VISIBLE_DEVICES\"] = \"-1\"\n",
        "\n",
        "# Build the LSTM model\n",
        "model = Sequential()\n",
        "\n",
        "# Add Input layer\n",
        "model.add(Input(shape=(look_back, 1)))\n",
        "\n",
        "# Add LSTM layer\n",
        "model.add(LSTM(50, return_sequences=False))  # LSTM layer with 50 units\n",
        "\n",
        "# Add Dense output layer\n",
        "model.add(Dense(1))  # Output layer\n",
        "\n",
        "# Compile the model\n",
        "model.compile(loss='mean_squared_error', optimizer='adam')\n",
        "\n",
        "# Summary of the model\n",
        "model.summary()"
      ],
      "metadata": {
        "id": "0YKatwbKu-_d",
        "outputId": "d6be16e6-e8f7-493e-bcf4-c44f352a8c04",
        "colab": {
          "base_uri": "https://localhost:8080/",
          "height": 207
        }
      },
      "execution_count": 75,
      "outputs": [
        {
          "output_type": "display_data",
          "data": {
            "text/plain": [
              "\u001b[1mModel: \"sequential_2\"\u001b[0m\n"
            ],
            "text/html": [
              "<pre style=\"white-space:pre;overflow-x:auto;line-height:normal;font-family:Menlo,'DejaVu Sans Mono',consolas,'Courier New',monospace\"><span style=\"font-weight: bold\">Model: \"sequential_2\"</span>\n",
              "</pre>\n"
            ]
          },
          "metadata": {}
        },
        {
          "output_type": "display_data",
          "data": {
            "text/plain": [
              "┏━━━━━━━━━━━━━━━━━━━━━━━━━━━━━━━━━━━━━━┳━━━━━━━━━━━━━━━━━━━━━━━━━━━━━┳━━━━━━━━━━━━━━━━━┓\n",
              "┃\u001b[1m \u001b[0m\u001b[1mLayer (type)                        \u001b[0m\u001b[1m \u001b[0m┃\u001b[1m \u001b[0m\u001b[1mOutput Shape               \u001b[0m\u001b[1m \u001b[0m┃\u001b[1m \u001b[0m\u001b[1m        Param #\u001b[0m\u001b[1m \u001b[0m┃\n",
              "┡━━━━━━━━━━━━━━━━━━━━━━━━━━━━━━━━━━━━━━╇━━━━━━━━━━━━━━━━━━━━━━━━━━━━━╇━━━━━━━━━━━━━━━━━┩\n",
              "│ lstm_2 (\u001b[38;5;33mLSTM\u001b[0m)                        │ (\u001b[38;5;45mNone\u001b[0m, \u001b[38;5;34m50\u001b[0m)                  │          \u001b[38;5;34m10,400\u001b[0m │\n",
              "├──────────────────────────────────────┼─────────────────────────────┼─────────────────┤\n",
              "│ dense_2 (\u001b[38;5;33mDense\u001b[0m)                      │ (\u001b[38;5;45mNone\u001b[0m, \u001b[38;5;34m1\u001b[0m)                   │              \u001b[38;5;34m51\u001b[0m │\n",
              "└──────────────────────────────────────┴─────────────────────────────┴─────────────────┘\n"
            ],
            "text/html": [
              "<pre style=\"white-space:pre;overflow-x:auto;line-height:normal;font-family:Menlo,'DejaVu Sans Mono',consolas,'Courier New',monospace\">┏━━━━━━━━━━━━━━━━━━━━━━━━━━━━━━━━━━━━━━┳━━━━━━━━━━━━━━━━━━━━━━━━━━━━━┳━━━━━━━━━━━━━━━━━┓\n",
              "┃<span style=\"font-weight: bold\"> Layer (type)                         </span>┃<span style=\"font-weight: bold\"> Output Shape                </span>┃<span style=\"font-weight: bold\">         Param # </span>┃\n",
              "┡━━━━━━━━━━━━━━━━━━━━━━━━━━━━━━━━━━━━━━╇━━━━━━━━━━━━━━━━━━━━━━━━━━━━━╇━━━━━━━━━━━━━━━━━┩\n",
              "│ lstm_2 (<span style=\"color: #0087ff; text-decoration-color: #0087ff\">LSTM</span>)                        │ (<span style=\"color: #00d7ff; text-decoration-color: #00d7ff\">None</span>, <span style=\"color: #00af00; text-decoration-color: #00af00\">50</span>)                  │          <span style=\"color: #00af00; text-decoration-color: #00af00\">10,400</span> │\n",
              "├──────────────────────────────────────┼─────────────────────────────┼─────────────────┤\n",
              "│ dense_2 (<span style=\"color: #0087ff; text-decoration-color: #0087ff\">Dense</span>)                      │ (<span style=\"color: #00d7ff; text-decoration-color: #00d7ff\">None</span>, <span style=\"color: #00af00; text-decoration-color: #00af00\">1</span>)                   │              <span style=\"color: #00af00; text-decoration-color: #00af00\">51</span> │\n",
              "└──────────────────────────────────────┴─────────────────────────────┴─────────────────┘\n",
              "</pre>\n"
            ]
          },
          "metadata": {}
        },
        {
          "output_type": "display_data",
          "data": {
            "text/plain": [
              "\u001b[1m Total params: \u001b[0m\u001b[38;5;34m10,451\u001b[0m (40.82 KB)\n"
            ],
            "text/html": [
              "<pre style=\"white-space:pre;overflow-x:auto;line-height:normal;font-family:Menlo,'DejaVu Sans Mono',consolas,'Courier New',monospace\"><span style=\"font-weight: bold\"> Total params: </span><span style=\"color: #00af00; text-decoration-color: #00af00\">10,451</span> (40.82 KB)\n",
              "</pre>\n"
            ]
          },
          "metadata": {}
        },
        {
          "output_type": "display_data",
          "data": {
            "text/plain": [
              "\u001b[1m Trainable params: \u001b[0m\u001b[38;5;34m10,451\u001b[0m (40.82 KB)\n"
            ],
            "text/html": [
              "<pre style=\"white-space:pre;overflow-x:auto;line-height:normal;font-family:Menlo,'DejaVu Sans Mono',consolas,'Courier New',monospace\"><span style=\"font-weight: bold\"> Trainable params: </span><span style=\"color: #00af00; text-decoration-color: #00af00\">10,451</span> (40.82 KB)\n",
              "</pre>\n"
            ]
          },
          "metadata": {}
        },
        {
          "output_type": "display_data",
          "data": {
            "text/plain": [
              "\u001b[1m Non-trainable params: \u001b[0m\u001b[38;5;34m0\u001b[0m (0.00 B)\n"
            ],
            "text/html": [
              "<pre style=\"white-space:pre;overflow-x:auto;line-height:normal;font-family:Menlo,'DejaVu Sans Mono',consolas,'Courier New',monospace\"><span style=\"font-weight: bold\"> Non-trainable params: </span><span style=\"color: #00af00; text-decoration-color: #00af00\">0</span> (0.00 B)\n",
              "</pre>\n"
            ]
          },
          "metadata": {}
        }
      ]
    },
    {
      "cell_type": "markdown",
      "source": [
        "4. Training the Model\n",
        "We will now train the model using the training dataset."
      ],
      "metadata": {
        "id": "lMGvcTmC0XOm"
      }
    },
    {
      "cell_type": "code",
      "source": [
        "# Train the model\n",
        "history = model.fit(X_train, Y_train, epochs=100, batch_size=1, verbose=2)\n",
        "\n",
        "# Plot training loss\n",
        "plt.plot(history.history['loss'])\n",
        "plt.title('Model Loss')\n",
        "plt.ylabel('Loss')\n",
        "plt.xlabel('Epoch')\n",
        "plt.show()"
      ],
      "metadata": {
        "id": "GEH0olt-x8Xy",
        "outputId": "4f452916-ebfa-430c-d1f8-e1bf8ac5d821",
        "colab": {
          "base_uri": "https://localhost:8080/",
          "height": 1000
        }
      },
      "execution_count": 76,
      "outputs": [
        {
          "output_type": "stream",
          "name": "stdout",
          "text": [
            "Epoch 1/100\n",
            "113/113 - 2s - 14ms/step - loss: 0.0398\n",
            "Epoch 2/100\n",
            "113/113 - 0s - 3ms/step - loss: 0.0166\n",
            "Epoch 3/100\n",
            "113/113 - 0s - 3ms/step - loss: 0.0124\n",
            "Epoch 4/100\n",
            "113/113 - 0s - 2ms/step - loss: 0.0086\n",
            "Epoch 5/100\n",
            "113/113 - 0s - 3ms/step - loss: 0.0058\n",
            "Epoch 6/100\n",
            "113/113 - 0s - 3ms/step - loss: 0.0041\n",
            "Epoch 7/100\n",
            "113/113 - 0s - 2ms/step - loss: 0.0033\n",
            "Epoch 8/100\n",
            "113/113 - 0s - 3ms/step - loss: 0.0029\n",
            "Epoch 9/100\n",
            "113/113 - 0s - 2ms/step - loss: 0.0029\n",
            "Epoch 10/100\n",
            "113/113 - 0s - 3ms/step - loss: 0.0032\n",
            "Epoch 11/100\n",
            "113/113 - 0s - 2ms/step - loss: 0.0028\n",
            "Epoch 12/100\n",
            "113/113 - 0s - 2ms/step - loss: 0.0030\n",
            "Epoch 13/100\n",
            "113/113 - 0s - 2ms/step - loss: 0.0030\n",
            "Epoch 14/100\n",
            "113/113 - 0s - 3ms/step - loss: 0.0028\n",
            "Epoch 15/100\n",
            "113/113 - 0s - 3ms/step - loss: 0.0029\n",
            "Epoch 16/100\n",
            "113/113 - 0s - 3ms/step - loss: 0.0029\n",
            "Epoch 17/100\n",
            "113/113 - 0s - 3ms/step - loss: 0.0029\n",
            "Epoch 18/100\n",
            "113/113 - 0s - 2ms/step - loss: 0.0029\n",
            "Epoch 19/100\n",
            "113/113 - 0s - 3ms/step - loss: 0.0030\n",
            "Epoch 20/100\n",
            "113/113 - 1s - 5ms/step - loss: 0.0028\n",
            "Epoch 21/100\n",
            "113/113 - 0s - 2ms/step - loss: 0.0029\n",
            "Epoch 22/100\n",
            "113/113 - 0s - 3ms/step - loss: 0.0030\n",
            "Epoch 23/100\n",
            "113/113 - 0s - 3ms/step - loss: 0.0028\n",
            "Epoch 24/100\n",
            "113/113 - 0s - 4ms/step - loss: 0.0028\n",
            "Epoch 25/100\n",
            "113/113 - 1s - 5ms/step - loss: 0.0029\n",
            "Epoch 26/100\n",
            "113/113 - 1s - 6ms/step - loss: 0.0029\n",
            "Epoch 27/100\n",
            "113/113 - 0s - 3ms/step - loss: 0.0029\n",
            "Epoch 28/100\n",
            "113/113 - 1s - 6ms/step - loss: 0.0028\n",
            "Epoch 29/100\n",
            "113/113 - 1s - 5ms/step - loss: 0.0030\n",
            "Epoch 30/100\n",
            "113/113 - 0s - 2ms/step - loss: 0.0028\n",
            "Epoch 31/100\n",
            "113/113 - 0s - 2ms/step - loss: 0.0029\n",
            "Epoch 32/100\n",
            "113/113 - 0s - 3ms/step - loss: 0.0028\n",
            "Epoch 33/100\n",
            "113/113 - 0s - 2ms/step - loss: 0.0029\n",
            "Epoch 34/100\n",
            "113/113 - 0s - 3ms/step - loss: 0.0029\n",
            "Epoch 35/100\n",
            "113/113 - 0s - 3ms/step - loss: 0.0029\n",
            "Epoch 36/100\n",
            "113/113 - 0s - 3ms/step - loss: 0.0028\n",
            "Epoch 37/100\n",
            "113/113 - 0s - 2ms/step - loss: 0.0029\n",
            "Epoch 38/100\n",
            "113/113 - 0s - 3ms/step - loss: 0.0028\n",
            "Epoch 39/100\n",
            "113/113 - 0s - 3ms/step - loss: 0.0028\n",
            "Epoch 40/100\n",
            "113/113 - 0s - 2ms/step - loss: 0.0027\n",
            "Epoch 41/100\n",
            "113/113 - 0s - 3ms/step - loss: 0.0029\n",
            "Epoch 42/100\n",
            "113/113 - 0s - 3ms/step - loss: 0.0030\n",
            "Epoch 43/100\n",
            "113/113 - 0s - 3ms/step - loss: 0.0028\n",
            "Epoch 44/100\n",
            "113/113 - 0s - 2ms/step - loss: 0.0028\n",
            "Epoch 45/100\n",
            "113/113 - 0s - 2ms/step - loss: 0.0027\n",
            "Epoch 46/100\n",
            "113/113 - 0s - 2ms/step - loss: 0.0028\n",
            "Epoch 47/100\n",
            "113/113 - 0s - 3ms/step - loss: 0.0027\n",
            "Epoch 48/100\n",
            "113/113 - 0s - 3ms/step - loss: 0.0029\n",
            "Epoch 49/100\n",
            "113/113 - 0s - 3ms/step - loss: 0.0029\n",
            "Epoch 50/100\n",
            "113/113 - 0s - 3ms/step - loss: 0.0029\n",
            "Epoch 51/100\n",
            "113/113 - 0s - 3ms/step - loss: 0.0029\n",
            "Epoch 52/100\n",
            "113/113 - 0s - 2ms/step - loss: 0.0027\n",
            "Epoch 53/100\n",
            "113/113 - 0s - 3ms/step - loss: 0.0027\n",
            "Epoch 54/100\n",
            "113/113 - 0s - 3ms/step - loss: 0.0029\n",
            "Epoch 55/100\n",
            "113/113 - 0s - 2ms/step - loss: 0.0028\n",
            "Epoch 56/100\n",
            "113/113 - 0s - 3ms/step - loss: 0.0027\n",
            "Epoch 57/100\n",
            "113/113 - 0s - 2ms/step - loss: 0.0029\n",
            "Epoch 58/100\n",
            "113/113 - 0s - 2ms/step - loss: 0.0028\n",
            "Epoch 59/100\n",
            "113/113 - 0s - 3ms/step - loss: 0.0028\n",
            "Epoch 60/100\n",
            "113/113 - 0s - 2ms/step - loss: 0.0028\n",
            "Epoch 61/100\n",
            "113/113 - 0s - 2ms/step - loss: 0.0029\n",
            "Epoch 62/100\n",
            "113/113 - 0s - 3ms/step - loss: 0.0029\n",
            "Epoch 63/100\n",
            "113/113 - 0s - 3ms/step - loss: 0.0027\n",
            "Epoch 64/100\n",
            "113/113 - 0s - 2ms/step - loss: 0.0027\n",
            "Epoch 65/100\n",
            "113/113 - 0s - 2ms/step - loss: 0.0029\n",
            "Epoch 66/100\n",
            "113/113 - 0s - 2ms/step - loss: 0.0028\n",
            "Epoch 67/100\n",
            "113/113 - 0s - 3ms/step - loss: 0.0028\n",
            "Epoch 68/100\n",
            "113/113 - 1s - 5ms/step - loss: 0.0028\n",
            "Epoch 69/100\n",
            "113/113 - 0s - 3ms/step - loss: 0.0028\n",
            "Epoch 70/100\n",
            "113/113 - 1s - 5ms/step - loss: 0.0027\n",
            "Epoch 71/100\n",
            "113/113 - 1s - 5ms/step - loss: 0.0028\n",
            "Epoch 72/100\n",
            "113/113 - 0s - 2ms/step - loss: 0.0029\n",
            "Epoch 73/100\n",
            "113/113 - 0s - 3ms/step - loss: 0.0031\n",
            "Epoch 74/100\n",
            "113/113 - 0s - 3ms/step - loss: 0.0028\n",
            "Epoch 75/100\n",
            "113/113 - 0s - 3ms/step - loss: 0.0028\n",
            "Epoch 76/100\n",
            "113/113 - 0s - 3ms/step - loss: 0.0027\n",
            "Epoch 77/100\n",
            "113/113 - 0s - 4ms/step - loss: 0.0028\n",
            "Epoch 78/100\n",
            "113/113 - 0s - 4ms/step - loss: 0.0027\n",
            "Epoch 79/100\n",
            "113/113 - 0s - 2ms/step - loss: 0.0028\n",
            "Epoch 80/100\n",
            "113/113 - 1s - 6ms/step - loss: 0.0028\n",
            "Epoch 81/100\n",
            "113/113 - 0s - 2ms/step - loss: 0.0027\n",
            "Epoch 82/100\n",
            "113/113 - 0s - 3ms/step - loss: 0.0027\n",
            "Epoch 83/100\n",
            "113/113 - 0s - 2ms/step - loss: 0.0027\n",
            "Epoch 84/100\n",
            "113/113 - 0s - 3ms/step - loss: 0.0028\n",
            "Epoch 85/100\n",
            "113/113 - 0s - 3ms/step - loss: 0.0028\n",
            "Epoch 86/100\n",
            "113/113 - 0s - 2ms/step - loss: 0.0028\n",
            "Epoch 87/100\n",
            "113/113 - 0s - 3ms/step - loss: 0.0027\n",
            "Epoch 88/100\n",
            "113/113 - 0s - 2ms/step - loss: 0.0027\n",
            "Epoch 89/100\n",
            "113/113 - 0s - 2ms/step - loss: 0.0027\n",
            "Epoch 90/100\n",
            "113/113 - 0s - 3ms/step - loss: 0.0026\n",
            "Epoch 91/100\n",
            "113/113 - 0s - 3ms/step - loss: 0.0028\n",
            "Epoch 92/100\n",
            "113/113 - 0s - 3ms/step - loss: 0.0029\n",
            "Epoch 93/100\n",
            "113/113 - 0s - 2ms/step - loss: 0.0028\n",
            "Epoch 94/100\n",
            "113/113 - 0s - 2ms/step - loss: 0.0027\n",
            "Epoch 95/100\n",
            "113/113 - 0s - 2ms/step - loss: 0.0027\n",
            "Epoch 96/100\n",
            "113/113 - 0s - 2ms/step - loss: 0.0028\n",
            "Epoch 97/100\n",
            "113/113 - 0s - 3ms/step - loss: 0.0026\n",
            "Epoch 98/100\n",
            "113/113 - 0s - 2ms/step - loss: 0.0027\n",
            "Epoch 99/100\n",
            "113/113 - 0s - 2ms/step - loss: 0.0028\n",
            "Epoch 100/100\n",
            "113/113 - 0s - 2ms/step - loss: 0.0028\n"
          ]
        },
        {
          "output_type": "display_data",
          "data": {
            "text/plain": [
              "<Figure size 640x480 with 1 Axes>"
            ],
            "image/png": "[encoded data removed]"
          },
          "metadata": {}
        }
      ]
    },
    {
      "cell_type": "code",
      "source": [
        "model.summary()"
      ],
      "metadata": {
        "id": "FdzowXXY1mYI",
        "outputId": "a01accfa-3998-469d-d7d3-8fe8499608d3",
        "colab": {
          "base_uri": "https://localhost:8080/",
          "height": 224
        }
      },
      "execution_count": 77,
      "outputs": [
        {
          "output_type": "display_data",
          "data": {
            "text/plain": [
              "\u001b[1mModel: \"sequential_2\"\u001b[0m\n"
            ],
            "text/html": [
              "<pre style=\"white-space:pre;overflow-x:auto;line-height:normal;font-family:Menlo,'DejaVu Sans Mono',consolas,'Courier New',monospace\"><span style=\"font-weight: bold\">Model: \"sequential_2\"</span>\n",
              "</pre>\n"
            ]
          },
          "metadata": {}
        },
        {
          "output_type": "display_data",
          "data": {
            "text/plain": [
              "┏━━━━━━━━━━━━━━━━━━━━━━━━━━━━━━━━━━━━━━┳━━━━━━━━━━━━━━━━━━━━━━━━━━━━━┳━━━━━━━━━━━━━━━━━┓\n",
              "┃\u001b[1m \u001b[0m\u001b[1mLayer (type)                        \u001b[0m\u001b[1m \u001b[0m┃\u001b[1m \u001b[0m\u001b[1mOutput Shape               \u001b[0m\u001b[1m \u001b[0m┃\u001b[1m \u001b[0m\u001b[1m        Param #\u001b[0m\u001b[1m \u001b[0m┃\n",
              "┡━━━━━━━━━━━━━━━━━━━━━━━━━━━━━━━━━━━━━━╇━━━━━━━━━━━━━━━━━━━━━━━━━━━━━╇━━━━━━━━━━━━━━━━━┩\n",
              "│ lstm_2 (\u001b[38;5;33mLSTM\u001b[0m)                        │ (\u001b[38;5;45mNone\u001b[0m, \u001b[38;5;34m50\u001b[0m)                  │          \u001b[38;5;34m10,400\u001b[0m │\n",
              "├──────────────────────────────────────┼─────────────────────────────┼─────────────────┤\n",
              "│ dense_2 (\u001b[38;5;33mDense\u001b[0m)                      │ (\u001b[38;5;45mNone\u001b[0m, \u001b[38;5;34m1\u001b[0m)                   │              \u001b[38;5;34m51\u001b[0m │\n",
              "└──────────────────────────────────────┴─────────────────────────────┴─────────────────┘\n"
            ],
            "text/html": [
              "<pre style=\"white-space:pre;overflow-x:auto;line-height:normal;font-family:Menlo,'DejaVu Sans Mono',consolas,'Courier New',monospace\">┏━━━━━━━━━━━━━━━━━━━━━━━━━━━━━━━━━━━━━━┳━━━━━━━━━━━━━━━━━━━━━━━━━━━━━┳━━━━━━━━━━━━━━━━━┓\n",
              "┃<span style=\"font-weight: bold\"> Layer (type)                         </span>┃<span style=\"font-weight: bold\"> Output Shape                </span>┃<span style=\"font-weight: bold\">         Param # </span>┃\n",
              "┡━━━━━━━━━━━━━━━━━━━━━━━━━━━━━━━━━━━━━━╇━━━━━━━━━━━━━━━━━━━━━━━━━━━━━╇━━━━━━━━━━━━━━━━━┩\n",
              "│ lstm_2 (<span style=\"color: #0087ff; text-decoration-color: #0087ff\">LSTM</span>)                        │ (<span style=\"color: #00d7ff; text-decoration-color: #00d7ff\">None</span>, <span style=\"color: #00af00; text-decoration-color: #00af00\">50</span>)                  │          <span style=\"color: #00af00; text-decoration-color: #00af00\">10,400</span> │\n",
              "├──────────────────────────────────────┼─────────────────────────────┼─────────────────┤\n",
              "│ dense_2 (<span style=\"color: #0087ff; text-decoration-color: #0087ff\">Dense</span>)                      │ (<span style=\"color: #00d7ff; text-decoration-color: #00d7ff\">None</span>, <span style=\"color: #00af00; text-decoration-color: #00af00\">1</span>)                   │              <span style=\"color: #00af00; text-decoration-color: #00af00\">51</span> │\n",
              "└──────────────────────────────────────┴─────────────────────────────┴─────────────────┘\n",
              "</pre>\n"
            ]
          },
          "metadata": {}
        },
        {
          "output_type": "display_data",
          "data": {
            "text/plain": [
              "\u001b[1m Total params: \u001b[0m\u001b[38;5;34m31,355\u001b[0m (122.48 KB)\n"
            ],
            "text/html": [
              "<pre style=\"white-space:pre;overflow-x:auto;line-height:normal;font-family:Menlo,'DejaVu Sans Mono',consolas,'Courier New',monospace\"><span style=\"font-weight: bold\"> Total params: </span><span style=\"color: #00af00; text-decoration-color: #00af00\">31,355</span> (122.48 KB)\n",
              "</pre>\n"
            ]
          },
          "metadata": {}
        },
        {
          "output_type": "display_data",
          "data": {
            "text/plain": [
              "\u001b[1m Trainable params: \u001b[0m\u001b[38;5;34m10,451\u001b[0m (40.82 KB)\n"
            ],
            "text/html": [
              "<pre style=\"white-space:pre;overflow-x:auto;line-height:normal;font-family:Menlo,'DejaVu Sans Mono',consolas,'Courier New',monospace\"><span style=\"font-weight: bold\"> Trainable params: </span><span style=\"color: #00af00; text-decoration-color: #00af00\">10,451</span> (40.82 KB)\n",
              "</pre>\n"
            ]
          },
          "metadata": {}
        },
        {
          "output_type": "display_data",
          "data": {
            "text/plain": [
              "\u001b[1m Non-trainable params: \u001b[0m\u001b[38;5;34m0\u001b[0m (0.00 B)\n"
            ],
            "text/html": [
              "<pre style=\"white-space:pre;overflow-x:auto;line-height:normal;font-family:Menlo,'DejaVu Sans Mono',consolas,'Courier New',monospace\"><span style=\"font-weight: bold\"> Non-trainable params: </span><span style=\"color: #00af00; text-decoration-color: #00af00\">0</span> (0.00 B)\n",
              "</pre>\n"
            ]
          },
          "metadata": {}
        },
        {
          "output_type": "display_data",
          "data": {
            "text/plain": [
              "\u001b[1m Optimizer params: \u001b[0m\u001b[38;5;34m20,904\u001b[0m (81.66 KB)\n"
            ],
            "text/html": [
              "<pre style=\"white-space:pre;overflow-x:auto;line-height:normal;font-family:Menlo,'DejaVu Sans Mono',consolas,'Courier New',monospace\"><span style=\"font-weight: bold\"> Optimizer params: </span><span style=\"color: #00af00; text-decoration-color: #00af00\">20,904</span> (81.66 KB)\n",
              "</pre>\n"
            ]
          },
          "metadata": {}
        }
      ]
    },
    {
      "cell_type": "markdown",
      "source": [
        "5. Evaluating the Model\n",
        "\n",
        "After training, we evaluate the model on the test data to see how well it generalizes.\n",
        "\n"
      ],
      "metadata": {
        "id": "VtZ1OycY17uL"
      }
    },
    {
      "cell_type": "code",
      "source": [
        "# Make predictions\n",
        "trainPredict = model.predict(X_train)\n",
        "testPredict = model.predict(X_test)\n",
        "\n",
        "# Inverse the predictions to get the original scale\n",
        "trainPredict = scaler.inverse_transform(trainPredict)\n",
        "testPredict = scaler.inverse_transform(testPredict)\n",
        "\n",
        "# Inverse the true values to get the original scale\n",
        "Y_train_original = scaler.inverse_transform([Y_train])\n",
        "Y_test_original = scaler.inverse_transform([Y_test])\n",
        "\n",
        "# Calculate the RMSE (Root Mean Squared Error)\n",
        "trainScore = np.sqrt(np.mean((trainPredict[:,0] - Y_train_original[0])**2))\n",
        "testScore = np.sqrt(np.mean((testPredict[:,0] - Y_test_original[0])**2))\n",
        "\n",
        "print(f'Train Score: {trainScore:.2f} RMSE')\n",
        "print(f'Test Score: {testScore:.2f} RMSE')\n"
      ],
      "metadata": {
        "id": "PQlTHr2H1_hw",
        "outputId": "6a0d60da-bfcc-45e5-cf81-c2e8d57c654e",
        "colab": {
          "base_uri": "https://localhost:8080/"
        }
      },
      "execution_count": 78,
      "outputs": [
        {
          "output_type": "stream",
          "name": "stderr",
          "text": [
            "WARNING:tensorflow:5 out of the last 11 calls to <function TensorFlowTrainer.make_predict_function.<locals>.one_step_on_data_distributed at 0x7bd74cdac0d0> triggered tf.function retracing. Tracing is expensive and the excessive number of tracings could be due to (1) creating @tf.function repeatedly in a loop, (2) passing tensors with different shapes, (3) passing Python objects instead of tensors. For (1), please define your @tf.function outside of the loop. For (2), @tf.function has reduce_retracing=True option that can avoid unnecessary retracing. For (3), please refer to https://www.tensorflow.org/guide/function#controlling_retracing and https://www.tensorflow.org/api_docs/python/tf/function for  more details.\n"
          ]
        },
        {
          "output_type": "stream",
          "name": "stdout",
          "text": [
            "\r\u001b[1m1/4\u001b[0m \u001b[32m━━━━━\u001b[0m\u001b[37m━━━━━━━━━━━━━━━\u001b[0m \u001b[1m0s\u001b[0m 161ms/step"
          ]
        },
        {
          "output_type": "stream",
          "name": "stderr",
          "text": [
            "WARNING:tensorflow:5 out of the last 11 calls to <function TensorFlowTrainer.make_predict_function.<locals>.one_step_on_data_distributed at 0x7bd74cdac0d0> triggered tf.function retracing. Tracing is expensive and the excessive number of tracings could be due to (1) creating @tf.function repeatedly in a loop, (2) passing tensors with different shapes, (3) passing Python objects instead of tensors. For (1), please define your @tf.function outside of the loop. For (2), @tf.function has reduce_retracing=True option that can avoid unnecessary retracing. For (3), please refer to https://www.tensorflow.org/guide/function#controlling_retracing and https://www.tensorflow.org/api_docs/python/tf/function for  more details.\n"
          ]
        },
        {
          "output_type": "stream",
          "name": "stdout",
          "text": [
            "\u001b[1m4/4\u001b[0m \u001b[32m━━━━━━━━━━━━━━━━━━━━\u001b[0m\u001b[37m\u001b[0m \u001b[1m0s\u001b[0m 62ms/step\n",
            "\u001b[1m1/1\u001b[0m \u001b[32m━━━━━━━━━━━━━━━━━━━━\u001b[0m\u001b[37m\u001b[0m \u001b[1m0s\u001b[0m 20ms/step\n",
            "Train Score: 0.05 RMSE\n",
            "Test Score: 0.10 RMSE\n"
          ]
        }
      ]
    },
    {
      "cell_type": "code",
      "source": [
        "# Shift train predictions for plotting\n",
        "trainPredictPlot = np.empty_like(dataset)\n",
        "trainPredictPlot[:, :] = np.nan\n",
        "trainPredictPlot[look_back:len(trainPredict) + look_back, :] = trainPredict\n",
        "\n",
        "# Shift test predictions for plotting\n",
        "testPredictPlot = np.empty_like(dataset)\n",
        "testPredictPlot[:, :] = np.nan\n",
        "\n",
        "# Correct the index calculation for test predictions\n",
        "test_start_idx = len(trainPredict) + (look_back * 2)\n",
        "testPredictPlot[test_start_idx:test_start_idx + len(testPredict), :] = testPredict\n",
        "\n",
        "# Plot baseline and predictions\n",
        "plt.plot(scaler.inverse_transform(dataset))\n",
        "plt.plot(trainPredictPlot)\n",
        "plt.plot(testPredictPlot)\n",
        "plt.title('Airline Passenger Prediction with LSTM')\n",
        "plt.xlabel('Time')\n",
        "plt.ylabel('Number of Passengers')\n",
        "plt.legend(['Original', 'Train Prediction', 'Test Prediction'])\n",
        "plt.show()"
      ],
      "metadata": {
        "id": "uyM3m4pX28KQ",
        "outputId": "70119c25-d0c9-4bf8-aca9-4cd8ec12c3d5",
        "colab": {
          "base_uri": "https://localhost:8080/",
          "height": 472
        }
      },
      "execution_count": 79,
      "outputs": [
        {
          "output_type": "display_data",
          "data": {
            "text/plain": [
              "<Figure size 640x480 with 1 Axes>"
            ],
            "image/png": "[encoded data removed]"
          },
          "metadata": {}
        }
      ]
    },
    {
      "cell_type": "code",
      "source": [],
      "metadata": {
        "id": "F3LJCxHg3PQM"
      },
      "execution_count": null,
      "outputs": []
    }
  ]
}